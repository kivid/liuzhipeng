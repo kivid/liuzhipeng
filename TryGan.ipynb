{
  "nbformat": 4,
  "nbformat_minor": 0,
  "metadata": {
    "colab": {
      "name": "TryGan.ipynb",
      "provenance": [],
      "collapsed_sections": [],
      "authorship_tag": "ABX9TyOaVchdsR/MtftUeSDsmHGS",
      "include_colab_link": true
    },
    "kernelspec": {
      "name": "python3",
      "display_name": "Python 3"
    },
    "accelerator": "TPU"
  },
  "cells": [
    {
      "cell_type": "markdown",
      "metadata": {
        "id": "view-in-github",
        "colab_type": "text"
      },
      "source": [
        "<a href=\"https://colab.research.google.com/github/kivid/liuzhipeng/blob/master/TryGan.ipynb\" target=\"_parent\"><img src=\"https://colab.research.google.com/assets/colab-badge.svg\" alt=\"Open In Colab\"/></a>"
      ]
    },
    {
      "cell_type": "code",
      "metadata": {
        "id": "uP5yklY4dZJz",
        "colab_type": "code",
        "outputId": "3ef114bf-5dff-46a9-8bca-d149a08c334c",
        "colab": {
          "base_uri": "https://localhost:8080/",
          "height": 35
        }
      },
      "source": [
        "from __future__ import absolute_import, division, print_function, unicode_literals\n",
        "\n",
        "import tensorflow as tf\n",
        "\n",
        "from tensorflow.keras.layers import Dense, Flatten, Conv2D\n",
        "from tensorflow.keras import Model\n",
        "print(tf.__version__)"
      ],
      "execution_count": 1,
      "outputs": [
        {
          "output_type": "stream",
          "text": [
            "2.2.0\n"
          ],
          "name": "stdout"
        }
      ]
    },
    {
      "cell_type": "code",
      "metadata": {
        "id": "BoEBSZhZy3C6",
        "colab_type": "code",
        "colab": {}
      },
      "source": [
        "mnist = tf.keras.datasets.mnist\n",
        "\n",
        "(x_train, y_train), (x_test, y_test) = mnist.load_data()\n",
        "x_train, x_test = x_train / 255.0, x_test / 255.0\n",
        "\n",
        "# Add a channels dimension\n",
        "x_train = x_train[..., tf.newaxis]\n",
        "x_test = x_test[..., tf.newaxis]"
      ],
      "execution_count": 0,
      "outputs": []
    },
    {
      "cell_type": "code",
      "metadata": {
        "id": "BxyPNUEfy6_C",
        "colab_type": "code",
        "colab": {}
      },
      "source": [
        "import glob\n",
        "import imageio\n",
        "import matplotlib.pyplot as plt\n",
        "import numpy as np\n",
        "import os\n",
        "import PIL\n",
        "from tensorflow.keras import layers\n",
        "import time\n",
        "\n",
        "from IPython import display"
      ],
      "execution_count": 0,
      "outputs": []
    },
    {
      "cell_type": "code",
      "metadata": {
        "id": "-t-pZ8MTzDPl",
        "colab_type": "code",
        "outputId": "6015f5a9-c03d-458f-843c-142f9f76503e",
        "colab": {
          "base_uri": "https://localhost:8080/",
          "height": 53
        }
      },
      "source": [
        "(train_images, train_labels), (test_images, test_lablels) = tf.keras.datasets.mnist.load_data()\n",
        "print(train_images.shape)\n",
        "train_images = train_images.reshape(train_images.shape[0], 28, 28, 1).astype('float32')\n",
        "train_images = (train_images - 127.5) / 127.5 # 将图片标准化到 [-1, 1] 区间内\n",
        "train_labels[0]"
      ],
      "execution_count": 4,
      "outputs": [
        {
          "output_type": "stream",
          "text": [
            "(60000, 28, 28)\n"
          ],
          "name": "stdout"
        },
        {
          "output_type": "execute_result",
          "data": {
            "text/plain": [
              "5"
            ]
          },
          "metadata": {
            "tags": []
          },
          "execution_count": 4
        }
      ]
    },
    {
      "cell_type": "code",
      "metadata": {
        "id": "Ac4d9yNXzL7M",
        "colab_type": "code",
        "outputId": "15fd2c57-9e90-4156-a6c1-375d7fb3c29b",
        "colab": {
          "base_uri": "https://localhost:8080/",
          "height": 35
        }
      },
      "source": [
        "BUFFER_SIZE = 60000\n",
        "BATCH_SIZE = 256\n",
        "# print(train_images[0],train_labels[0])\n",
        "train_dataset = tf.data.Dataset.from_tensor_slices((train_images,train_labels)).shuffle(BUFFER_SIZE).batch(BATCH_SIZE).prefetch(tf.data.experimental.AUTOTUNE)  \n",
        "train_dataset.take(1)"
      ],
      "execution_count": 5,
      "outputs": [
        {
          "output_type": "execute_result",
          "data": {
            "text/plain": [
              "<TakeDataset shapes: ((None, 28, 28, 1), (None,)), types: (tf.float32, tf.uint8)>"
            ]
          },
          "metadata": {
            "tags": []
          },
          "execution_count": 5
        }
      ]
    },
    {
      "cell_type": "code",
      "metadata": {
        "id": "6NyUkTX_z0TS",
        "colab_type": "code",
        "outputId": "a8bd2ad7-46e8-481f-d2c7-454d53daab1e",
        "colab": {
          "base_uri": "https://localhost:8080/",
          "height": 607
        }
      },
      "source": [
        "def make_generator_model():\n",
        "    model = tf.keras.Sequential()\n",
        "    # model.add(layers.Input(shape=(28,28,1)))\n",
        "    model.add(layers.Dense(7*7*256, use_bias=False, input_shape=(101,))) #为什么不是1，100\n",
        "    model.add(layers.BatchNormalization())\n",
        "    model.add(layers.LeakyReLU())\n",
        "\n",
        "    model.add(layers.Reshape((7, 7, 256)))\n",
        "    assert model.output_shape == (None, 7, 7, 256) # 注意：batch size 没有限制\n",
        "\n",
        "    model.add(layers.Conv2DTranspose(128, (5, 5), strides=(1, 1), padding='same', use_bias=False))\n",
        "    assert model.output_shape == (None, 7, 7, 128)\n",
        "    model.add(layers.BatchNormalization())\n",
        "    model.add(layers.LeakyReLU())\n",
        "\n",
        "    model.add(layers.Conv2DTranspose(64, (5, 5), strides=(2, 2), padding='same', use_bias=False))\n",
        "    assert model.output_shape == (None, 14, 14, 64)\n",
        "    model.add(layers.BatchNormalization())\n",
        "    model.add(layers.LeakyReLU())\n",
        "\n",
        "    model.add(layers.Conv2DTranspose(1, (5, 5), strides=(2, 2), padding='same', use_bias=False, activation='tanh'))\n",
        "    assert model.output_shape == (None, 28, 28, 1)\n",
        "\n",
        "    return model\n",
        "tf.keras.backend.clear_session() #清空会话\n",
        "\n",
        "generator = make_generator_model()\n",
        "# generator.summary()\n",
        "noise = tf.random.normal((1,100))#这个tuple等同于[1,100]\n",
        "# noise = tf.random.normal((100,))\n",
        "y = tf.constant([[1]],dtype=tf.float32)\n",
        "# y =tf.convert_to_tensor(np.array([[1,1.0]]))\n",
        "noise = tf.concat([noise,y],1)\n",
        "# noise = tf.concat(noise,tf.constant(1)) 这个是错的concat\n",
        "# noisearr = np.array(noise)\n",
        "# noisearr[0][100] = 1\n",
        "print(noise.get_shape()==noise.shape,noise)\n",
        "generated_image = generator(noise, training=False)\n",
        "plt.imshow(generated_image[0, :, :, 0], cmap='gray')"
      ],
      "execution_count": 6,
      "outputs": [
        {
          "output_type": "stream",
          "text": [
            "True tf.Tensor(\n",
            "[[-0.07554859 -0.3811391   1.0404874  -1.9756689  -0.79645306  0.10343528\n",
            "   1.4605637  -0.38678595 -2.4424207  -0.65349096  0.54512465 -0.2900672\n",
            "   1.157177   -1.2073628   0.36823878 -0.91634595 -0.826088    0.12904046\n",
            "   0.44125196 -0.5277896  -0.06485555  0.2070511  -0.94473255  0.5148681\n",
            "  -1.8318758  -0.1048091   0.63670224  1.7570019  -0.32702878 -0.56006366\n",
            "  -1.4179721   1.3052729  -0.40743     0.5770295   1.6436149   0.66763026\n",
            "  -0.28807727 -1.146007   -0.30479583 -1.3730942   0.12522423  2.1461756\n",
            "   0.8849233   0.22643459  0.74592656  0.7401872   0.2987711   0.9343487\n",
            "  -2.0568783  -0.78346455  0.42365348 -0.51578987 -0.5426323   0.7746051\n",
            "  -0.3617593  -0.37225997  0.6967091   2.9932191  -0.45863673  0.5774419\n",
            "   0.70486885  0.47144428 -0.3001396  -0.03018391  1.4209243   1.5257713\n",
            "   1.1777804   0.58233196  0.0909554  -1.1360245  -1.1253817   0.68498534\n",
            "   0.05670092 -0.16479014 -0.49653682 -0.55290157  0.9074812   1.2599405\n",
            "  -2.2189074  -0.60767627 -0.546906   -0.4430398   0.5340407   2.4378262\n",
            "   2.0680885   0.05233278  0.86244106  0.75558126 -0.6347387  -1.8381265\n",
            "   0.4301833   1.0334603   0.41888636 -0.14359671  0.90612984 -1.8071353\n",
            "   0.91663194 -0.22638856  0.70055556  0.13762191  1.        ]], shape=(1, 101), dtype=float32)\n"
          ],
          "name": "stdout"
        },
        {
          "output_type": "execute_result",
          "data": {
            "text/plain": [
              "<matplotlib.image.AxesImage at 0x7f05055f3d68>"
            ]
          },
          "metadata": {
            "tags": []
          },
          "execution_count": 6
        },
        {
          "output_type": "display_data",
          "data": {
            "image/png": "[encoded data removed]",
            "text/plain": [
              "<Figure size 432x288 with 1 Axes>"
            ]
          },
          "metadata": {
            "tags": [],
            "needs_background": "light"
          }
        }
      ]
    },
    {
      "cell_type": "code",
      "metadata": {
        "id": "pSXv_T6zfTb5",
        "colab_type": "code",
        "outputId": "e7871762-cca7-46ab-f74a-fa35ce8b00a1",
        "colab": {
          "base_uri": "https://localhost:8080/",
          "height": 305
        }
      },
      "source": [
        "# y = tf.placeholder(tf.float32,[1,10])\n",
        "y = tf.random.normal((5,10))\n",
        "x = tf.random.normal((5,1))\n",
        "tf.concat([x,y],1)"
      ],
      "execution_count": 7,
      "outputs": [
        {
          "output_type": "execute_result",
          "data": {
            "text/plain": [
              "<tf.Tensor: shape=(5, 11), dtype=float32, numpy=\n",
              "array([[-0.35141283,  0.01681512, -0.6409056 ,  0.89775735, -0.5175169 ,\n",
              "        -0.84412754, -0.9467886 ,  0.3273531 ,  1.4899884 ,  0.27644834,\n",
              "        -0.96807915],\n",
              "       [ 0.17984167, -0.82349885,  0.0572947 ,  0.9880079 , -0.55481637,\n",
              "         0.043413  , -1.6114926 , -2.7185323 , -1.0410141 ,  0.39756233,\n",
              "        -1.2294918 ],\n",
              "       [ 0.09515796,  1.7705508 ,  0.6166686 , -1.7094626 ,  1.2537582 ,\n",
              "         0.06499902, -1.1043776 ,  1.5825953 , -0.17417836,  1.0757004 ,\n",
              "         0.48214772],\n",
              "       [ 2.077833  ,  0.01402519, -0.15879525, -0.377964  , -0.28794354,\n",
              "        -0.23544687, -0.375789  , -0.4541218 , -0.68209046,  1.0492204 ,\n",
              "        -0.5749927 ],\n",
              "       [ 0.33256122,  0.2824891 ,  0.7507062 ,  1.4332806 , -1.1586335 ,\n",
              "        -0.2568933 ,  0.8667425 ,  0.52736664,  0.59889764,  0.38634184,\n",
              "        -1.5293992 ]], dtype=float32)>"
            ]
          },
          "metadata": {
            "tags": []
          },
          "execution_count": 7
        }
      ]
    },
    {
      "cell_type": "code",
      "metadata": {
        "id": "qBCrK7iKXxD4",
        "colab_type": "code",
        "colab": {
          "base_uri": "https://localhost:8080/",
          "height": 35
        },
        "outputId": "6f5fe122-9870-42a4-afa8-e11c9db9f962"
      },
      "source": [
        "from google.colab import drive\n",
        "drive.mount('/content/drive')"
      ],
      "execution_count": 8,
      "outputs": [
        {
          "output_type": "stream",
          "text": [
            "Drive already mounted at /content/drive; to attempt to forcibly remount, call drive.mount(\"/content/drive\", force_remount=True).\n"
          ],
          "name": "stdout"
        }
      ]
    },
    {
      "cell_type": "code",
      "metadata": {
        "id": "x4lhEYsq11lK",
        "colab_type": "code",
        "colab": {}
      },
      "source": [
        "# def make_discriminator_model():\n",
        "#     model = tf.keras.Sequential()\n",
        "#     model.add(layers.Conv2D(64, (5, 5), strides=(2, 2), padding='same',\n",
        "#                                      input_shape=(28,28,1)))\n",
        "#     model.add(layers.LeakyReLU())\n",
        "#     model.add(layers.Dropout(0.3))\n",
        "\n",
        "#     model.add(layers.Conv2D(128, (5, 5), strides=(2, 2), padding='same'))\n",
        "#     model.add(layers.LeakyReLU())\n",
        "#     model.add(layers.Dropout(0.3))\n",
        "\n",
        "#     model.add(layers.Flatten())\n",
        "#     model.add(layers.Dense(1))\n",
        "\n",
        "#     return model\n",
        "def bulit_dis_net():\n",
        "  model = tf.keras.Sequential()\n",
        "  model.add(layers.Flatten())\n",
        "  model.add(layers.Dense(512))\n",
        "  model.add(layers.LeakyReLU(0.2))\n",
        "  # model.add(layers.Dropout(0.4))\n",
        "  model.add(layers.Dense(512))\n",
        "  model.add(layers.LeakyReLU(0.2))\n",
        "  model.add(layers.Dense(512))\n",
        "  model.add(layers.LeakyReLU(0.2))\n",
        "  model.add(layers.Dropout(0.4))\n",
        "  model.add(layers.Dense(1,activation=tf.nn.sigmoid))\n",
        "  return model\n",
        "# discriminator = make_discriminator_model()\n",
        "discriminator = bulit_dis_net()\n",
        "# discriminator.summary()\n"
      ],
      "execution_count": 0,
      "outputs": []
    },
    {
      "cell_type": "code",
      "metadata": {
        "id": "hiE0Ci2O4qyj",
        "colab_type": "code",
        "outputId": "fa7a8ea5-2b18-467a-94a0-b86e1b1af974",
        "colab": {
          "base_uri": "https://localhost:8080/",
          "height": 35
        }
      },
      "source": [
        "\n",
        "decision = discriminator(generated_image)\n",
        "print (decision)"
      ],
      "execution_count": 10,
      "outputs": [
        {
          "output_type": "stream",
          "text": [
            "tf.Tensor([[0.49859715]], shape=(1, 1), dtype=float32)\n"
          ],
          "name": "stdout"
        }
      ]
    },
    {
      "cell_type": "code",
      "metadata": {
        "id": "mZu7BQb244cS",
        "colab_type": "code",
        "colab": {}
      },
      "source": [
        "cross_entropy = tf.keras.losses.BinaryCrossentropy(from_logits=True)\n",
        "def discriminator_loss(real_output, fake_output):\n",
        "    real_loss = cross_entropy(tf.ones_like(real_output), real_output)\n",
        "    fake_loss = cross_entropy(tf.zeros_like(fake_output), fake_output)\n",
        "    total_loss = real_loss + fake_loss\n",
        "    return total_loss\n",
        "def generator_loss(fake_output):\n",
        "    return cross_entropy(tf.ones_like(fake_output), fake_output)\n",
        "\n",
        "generator_optimizer = tf.keras.optimizers.Adam(1e-4)\n",
        "discriminator_optimizer = tf.keras.optimizers.Adam(1e-4)\n",
        "checkpoint_dir = './training_checkpoints'\n",
        "checkpoint_prefix = os.path.join(checkpoint_dir, \"ckpt\")\n",
        "checkpoint = tf.train.Checkpoint(generator_optimizer=generator_optimizer,\n",
        "                                 discriminator_optimizer=discriminator_optimizer,\n",
        "                                 generator=generator,\n",
        "                                 discriminator=discriminator)\n"
      ],
      "execution_count": 0,
      "outputs": []
    },
    {
      "cell_type": "code",
      "metadata": {
        "id": "JU92InVY5PSr",
        "colab_type": "code",
        "colab": {}
      },
      "source": [
        "\n",
        "@tf.function\n",
        "def train_step(images):\n",
        "    noise = tf.random.normal([BATCH_SIZE, noise_dim])\n",
        "    yz = tf.concat([noise,labels])\n",
        "    with tf.GradientTape() as gen_tape, tf.GradientTape() as disc_tape:\n",
        "      generated_images = generator(yz, training=True)\n",
        "\n",
        "      real_output = discriminator([images,labels], training=True)\n",
        "      fake_output = discriminator([generated_images,labels], training=True)\n",
        "\n",
        "      gen_loss = generator_loss(fake_output)\n",
        "      disc_loss = discriminator_loss(real_output, fake_output)\n",
        "\n",
        "    gradients_of_generator = gen_tape.gradient(gen_loss, generator.trainable_variables)\n",
        "    gradients_of_discriminator = disc_tape.gradient(disc_loss, discriminator.trainable_variables)\n",
        "\n",
        "    generator_optimizer.apply_gradients(zip(gradients_of_generator, generator.trainable_variables))\n",
        "    discriminator_optimizer.apply_gradients(zip(gradients_of_discriminator, discriminator.trainable_variables))\n",
        "def generate_and_save_images(model, epoch, test_input):\n",
        "  # 注意 training` 设定为 False\n",
        "  # 因此，所有层都在推理模式下运行（batchnorm）。\n",
        "  predictions = model(test_input, training=False)\n",
        "\n",
        "  fig = plt.figure(figsize=(4,4))\n",
        "\n",
        "  for i in range(predictions.shape[0]):\n",
        "      plt.subplot(4, 4, i+1)\n",
        "      plt.imshow(predictions[i, :, :, 0] * 127.5 + 127.5, cmap='gray')\n",
        "      plt.axis('off')\n",
        "\n",
        "  plt.savefig('image_at_epoch_{:04d}.png'.format(epoch))\n",
        "  plt.show()"
      ],
      "execution_count": 0,
      "outputs": []
    },
    {
      "cell_type": "code",
      "metadata": {
        "id": "TbywDnhy8bop",
        "colab_type": "code",
        "colab": {}
      },
      "source": [
        "EPOCHS = 50\n",
        "noise_dim = 100\n",
        "num_examples_to_generate = 16\n",
        "\n",
        "\n",
        "# 我们将重复使用该种子（因此在动画 GIF 中更容易可视化进度）\n",
        "seed = tf.random.normal([num_examples_to_generate, noise_dim])"
      ],
      "execution_count": 0,
      "outputs": []
    },
    {
      "cell_type": "code",
      "metadata": {
        "id": "LJ4qaQ9i-OHo",
        "colab_type": "code",
        "outputId": "bcd25ee0-bfa2-4530-da18-1c087843bc92",
        "colab": {
          "base_uri": "https://localhost:8080/",
          "height": 35
        }
      },
      "source": [
        "r = np.array(([0,1,3],44))\n",
        "r"
      ],
      "execution_count": 14,
      "outputs": [
        {
          "output_type": "execute_result",
          "data": {
            "text/plain": [
              "array([list([0, 1, 3]), 44], dtype=object)"
            ]
          },
          "metadata": {
            "tags": []
          },
          "execution_count": 14
        }
      ]
    },
    {
      "cell_type": "code",
      "metadata": {
        "id": "k1nknGDM-PBG",
        "colab_type": "code",
        "colab": {}
      },
      "source": [
        ""
      ],
      "execution_count": 0,
      "outputs": []
    }
  ]
}